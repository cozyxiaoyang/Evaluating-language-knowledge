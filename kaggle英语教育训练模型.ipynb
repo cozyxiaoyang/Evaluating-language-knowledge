{
 "cells": [
  {
   "cell_type": "code",
   "execution_count": 1,
   "metadata": {},
   "outputs": [],
   "source": [
    "import pandas as pd\n",
    "import matplotlib.pyplot as plt\n",
    "import sklearn"
   ]
  },
  {
   "cell_type": "code",
   "execution_count": 2,
   "metadata": {},
   "outputs": [
    {
     "data": {
      "text/html": [
       "<div>\n",
       "<style scoped>\n",
       "    .dataframe tbody tr th:only-of-type {\n",
       "        vertical-align: middle;\n",
       "    }\n",
       "\n",
       "    .dataframe tbody tr th {\n",
       "        vertical-align: top;\n",
       "    }\n",
       "\n",
       "    .dataframe thead th {\n",
       "        text-align: right;\n",
       "    }\n",
       "</style>\n",
       "<table border=\"1\" class=\"dataframe\">\n",
       "  <thead>\n",
       "    <tr style=\"text-align: right;\">\n",
       "      <th></th>\n",
       "      <th>text_id</th>\n",
       "      <th>full_text</th>\n",
       "      <th>cohesion</th>\n",
       "      <th>syntax</th>\n",
       "      <th>vocabulary</th>\n",
       "      <th>phraseology</th>\n",
       "      <th>grammar</th>\n",
       "      <th>conventions</th>\n",
       "    </tr>\n",
       "  </thead>\n",
       "  <tbody>\n",
       "    <tr>\n",
       "      <th>0</th>\n",
       "      <td>0016926B079C</td>\n",
       "      <td>I think that students would benefit from learn...</td>\n",
       "      <td>3.5</td>\n",
       "      <td>3.5</td>\n",
       "      <td>3.0</td>\n",
       "      <td>3.0</td>\n",
       "      <td>4.0</td>\n",
       "      <td>3.0</td>\n",
       "    </tr>\n",
       "    <tr>\n",
       "      <th>1</th>\n",
       "      <td>0022683E9EA5</td>\n",
       "      <td>When a problem is a change you have to let it ...</td>\n",
       "      <td>2.5</td>\n",
       "      <td>2.5</td>\n",
       "      <td>3.0</td>\n",
       "      <td>2.0</td>\n",
       "      <td>2.0</td>\n",
       "      <td>2.5</td>\n",
       "    </tr>\n",
       "    <tr>\n",
       "      <th>2</th>\n",
       "      <td>00299B378633</td>\n",
       "      <td>Dear, Principal\\n\\nIf u change the school poli...</td>\n",
       "      <td>3.0</td>\n",
       "      <td>3.5</td>\n",
       "      <td>3.0</td>\n",
       "      <td>3.0</td>\n",
       "      <td>3.0</td>\n",
       "      <td>2.5</td>\n",
       "    </tr>\n",
       "    <tr>\n",
       "      <th>3</th>\n",
       "      <td>003885A45F42</td>\n",
       "      <td>The best time in life is when you become yours...</td>\n",
       "      <td>4.5</td>\n",
       "      <td>4.5</td>\n",
       "      <td>4.5</td>\n",
       "      <td>4.5</td>\n",
       "      <td>4.0</td>\n",
       "      <td>5.0</td>\n",
       "    </tr>\n",
       "    <tr>\n",
       "      <th>4</th>\n",
       "      <td>0049B1DF5CCC</td>\n",
       "      <td>Small act of kindness can impact in other peop...</td>\n",
       "      <td>2.5</td>\n",
       "      <td>3.0</td>\n",
       "      <td>3.0</td>\n",
       "      <td>3.0</td>\n",
       "      <td>2.5</td>\n",
       "      <td>2.5</td>\n",
       "    </tr>\n",
       "  </tbody>\n",
       "</table>\n",
       "</div>"
      ],
      "text/plain": [
       "        text_id                                          full_text  cohesion  \\\n",
       "0  0016926B079C  I think that students would benefit from learn...       3.5   \n",
       "1  0022683E9EA5  When a problem is a change you have to let it ...       2.5   \n",
       "2  00299B378633  Dear, Principal\\n\\nIf u change the school poli...       3.0   \n",
       "3  003885A45F42  The best time in life is when you become yours...       4.5   \n",
       "4  0049B1DF5CCC  Small act of kindness can impact in other peop...       2.5   \n",
       "\n",
       "   syntax  vocabulary  phraseology  grammar  conventions  \n",
       "0     3.5         3.0          3.0      4.0          3.0  \n",
       "1     2.5         3.0          2.0      2.0          2.5  \n",
       "2     3.5         3.0          3.0      3.0          2.5  \n",
       "3     4.5         4.5          4.5      4.0          5.0  \n",
       "4     3.0         3.0          3.0      2.5          2.5  "
      ]
     },
     "execution_count": 2,
     "metadata": {},
     "output_type": "execute_result"
    }
   ],
   "source": [
    "train = pd.read_csv(\"C:/Users/86134/Desktop/train.csv\")\n",
    "train.head()"
   ]
  },
  {
   "cell_type": "code",
   "execution_count": 3,
   "metadata": {},
   "outputs": [
    {
     "data": {
      "text/plain": [
       "\"I think that students would benefit from learning at home,because they wont have to change and get up early in the morning to shower and do there hair. taking only classes helps them because at there house they'll be pay more attention. they will be comfortable at home.\\n\\nThe hardest part of school is getting ready. you wake up go brush your teeth and go to your closet and look at your cloths. after you think you picked a outfit u go look in the mirror and youll either not like it or you look and see a stain. Then you'll have to change. with the online classes you can wear anything and stay home and you wont need to stress about what to wear.\\n\\nmost students usually take showers before school. they either take it before they sleep or when they wake up. some students do both to smell good. that causes them do miss the bus and effects on there lesson time cause they come late to school. when u have online classes u wont need to miss lessons cause you can get everything set up and go take a shower and when u get out your ready to go.\\n\\nwhen your home your comfortable and you pay attention. it gives then an advantage to be smarter and even pass there classmates on class work. public schools are difficult even if you try. some teacher dont know how to teach it in then way that students understand it. that causes students to fail and they may repeat the class.              \""
      ]
     },
     "execution_count": 3,
     "metadata": {},
     "output_type": "execute_result"
    }
   ],
   "source": [
    "train['full_text'][0]"
   ]
  },
  {
   "cell_type": "code",
   "execution_count": 4,
   "metadata": {},
   "outputs": [],
   "source": [
    "#空格和句号作为特征值\n",
    "train['chars'] = train['full_text'].str.split(' ').apply(len)\n",
    "train['sents'] = train['full_text'].str.split('.').apply(len)"
   ]
  },
  {
   "cell_type": "code",
   "execution_count": 5,
   "metadata": {},
   "outputs": [
    {
     "data": {
      "text/html": [
       "<style  type=\"text/css\" >\n",
       "#T_f319f066_7b53_11ed_8ff4_9cfce8e74649row0_col0,#T_f319f066_7b53_11ed_8ff4_9cfce8e74649row1_col1,#T_f319f066_7b53_11ed_8ff4_9cfce8e74649row2_col2,#T_f319f066_7b53_11ed_8ff4_9cfce8e74649row3_col3,#T_f319f066_7b53_11ed_8ff4_9cfce8e74649row4_col4,#T_f319f066_7b53_11ed_8ff4_9cfce8e74649row5_col5,#T_f319f066_7b53_11ed_8ff4_9cfce8e74649row6_col6,#T_f319f066_7b53_11ed_8ff4_9cfce8e74649row7_col7{\n",
       "            background-color:  #023858;\n",
       "            color:  #f1f1f1;\n",
       "        }#T_f319f066_7b53_11ed_8ff4_9cfce8e74649row0_col1{\n",
       "            background-color:  #2786bb;\n",
       "            color:  #000000;\n",
       "        }#T_f319f066_7b53_11ed_8ff4_9cfce8e74649row0_col2{\n",
       "            background-color:  #3991c1;\n",
       "            color:  #000000;\n",
       "        }#T_f319f066_7b53_11ed_8ff4_9cfce8e74649row0_col3,#T_f319f066_7b53_11ed_8ff4_9cfce8e74649row3_col0,#T_f319f066_7b53_11ed_8ff4_9cfce8e74649row4_col5{\n",
       "            background-color:  #2a88bc;\n",
       "            color:  #000000;\n",
       "        }#T_f319f066_7b53_11ed_8ff4_9cfce8e74649row0_col4,#T_f319f066_7b53_11ed_8ff4_9cfce8e74649row1_col2{\n",
       "            background-color:  #328dbf;\n",
       "            color:  #000000;\n",
       "        }#T_f319f066_7b53_11ed_8ff4_9cfce8e74649row0_col5,#T_f319f066_7b53_11ed_8ff4_9cfce8e74649row2_col5{\n",
       "            background-color:  #2f8bbe;\n",
       "            color:  #000000;\n",
       "        }#T_f319f066_7b53_11ed_8ff4_9cfce8e74649row0_col6,#T_f319f066_7b53_11ed_8ff4_9cfce8e74649row3_col6{\n",
       "            background-color:  #f1ebf4;\n",
       "            color:  #000000;\n",
       "        }#T_f319f066_7b53_11ed_8ff4_9cfce8e74649row0_col7{\n",
       "            background-color:  #ebe6f2;\n",
       "            color:  #000000;\n",
       "        }#T_f319f066_7b53_11ed_8ff4_9cfce8e74649row1_col0{\n",
       "            background-color:  #2987bc;\n",
       "            color:  #000000;\n",
       "        }#T_f319f066_7b53_11ed_8ff4_9cfce8e74649row1_col3{\n",
       "            background-color:  #1b7eb7;\n",
       "            color:  #000000;\n",
       "        }#T_f319f066_7b53_11ed_8ff4_9cfce8e74649row1_col4,#T_f319f066_7b53_11ed_8ff4_9cfce8e74649row2_col3{\n",
       "            background-color:  #167bb6;\n",
       "            color:  #000000;\n",
       "        }#T_f319f066_7b53_11ed_8ff4_9cfce8e74649row1_col5,#T_f319f066_7b53_11ed_8ff4_9cfce8e74649row4_col1{\n",
       "            background-color:  #2081b9;\n",
       "            color:  #000000;\n",
       "        }#T_f319f066_7b53_11ed_8ff4_9cfce8e74649row1_col6{\n",
       "            background-color:  #f3edf5;\n",
       "            color:  #000000;\n",
       "        }#T_f319f066_7b53_11ed_8ff4_9cfce8e74649row1_col7{\n",
       "            background-color:  #e5e1ef;\n",
       "            color:  #000000;\n",
       "        }#T_f319f066_7b53_11ed_8ff4_9cfce8e74649row2_col0,#T_f319f066_7b53_11ed_8ff4_9cfce8e74649row5_col0{\n",
       "            background-color:  #3790c0;\n",
       "            color:  #000000;\n",
       "        }#T_f319f066_7b53_11ed_8ff4_9cfce8e74649row2_col1,#T_f319f066_7b53_11ed_8ff4_9cfce8e74649row3_col5{\n",
       "            background-color:  #2d8abd;\n",
       "            color:  #000000;\n",
       "        }#T_f319f066_7b53_11ed_8ff4_9cfce8e74649row2_col4{\n",
       "            background-color:  #2c89bd;\n",
       "            color:  #000000;\n",
       "        }#T_f319f066_7b53_11ed_8ff4_9cfce8e74649row2_col6{\n",
       "            background-color:  #eee9f3;\n",
       "            color:  #000000;\n",
       "        }#T_f319f066_7b53_11ed_8ff4_9cfce8e74649row2_col7{\n",
       "            background-color:  #e7e3f0;\n",
       "            color:  #000000;\n",
       "        }#T_f319f066_7b53_11ed_8ff4_9cfce8e74649row3_col1,#T_f319f066_7b53_11ed_8ff4_9cfce8e74649row3_col2{\n",
       "            background-color:  #197db7;\n",
       "            color:  #000000;\n",
       "        }#T_f319f066_7b53_11ed_8ff4_9cfce8e74649row3_col4{\n",
       "            background-color:  #1278b4;\n",
       "            color:  #f1f1f1;\n",
       "        }#T_f319f066_7b53_11ed_8ff4_9cfce8e74649row3_col7{\n",
       "            background-color:  #f1ebf5;\n",
       "            color:  #000000;\n",
       "        }#T_f319f066_7b53_11ed_8ff4_9cfce8e74649row4_col0{\n",
       "            background-color:  #4496c3;\n",
       "            color:  #000000;\n",
       "        }#T_f319f066_7b53_11ed_8ff4_9cfce8e74649row4_col2{\n",
       "            background-color:  #3f93c2;\n",
       "            color:  #000000;\n",
       "        }#T_f319f066_7b53_11ed_8ff4_9cfce8e74649row4_col3{\n",
       "            background-color:  #1e80b8;\n",
       "            color:  #000000;\n",
       "        }#T_f319f066_7b53_11ed_8ff4_9cfce8e74649row4_col6,#T_f319f066_7b53_11ed_8ff4_9cfce8e74649row4_col7,#T_f319f066_7b53_11ed_8ff4_9cfce8e74649row6_col0,#T_f319f066_7b53_11ed_8ff4_9cfce8e74649row6_col1,#T_f319f066_7b53_11ed_8ff4_9cfce8e74649row6_col2,#T_f319f066_7b53_11ed_8ff4_9cfce8e74649row6_col3,#T_f319f066_7b53_11ed_8ff4_9cfce8e74649row6_col4,#T_f319f066_7b53_11ed_8ff4_9cfce8e74649row6_col5{\n",
       "            background-color:  #fff7fb;\n",
       "            color:  #000000;\n",
       "        }#T_f319f066_7b53_11ed_8ff4_9cfce8e74649row5_col1,#T_f319f066_7b53_11ed_8ff4_9cfce8e74649row5_col4{\n",
       "            background-color:  #2484ba;\n",
       "            color:  #000000;\n",
       "        }#T_f319f066_7b53_11ed_8ff4_9cfce8e74649row5_col2{\n",
       "            background-color:  #3b92c1;\n",
       "            color:  #000000;\n",
       "        }#T_f319f066_7b53_11ed_8ff4_9cfce8e74649row5_col3{\n",
       "            background-color:  #358fc0;\n",
       "            color:  #000000;\n",
       "        }#T_f319f066_7b53_11ed_8ff4_9cfce8e74649row5_col6{\n",
       "            background-color:  #f8f1f8;\n",
       "            color:  #000000;\n",
       "        }#T_f319f066_7b53_11ed_8ff4_9cfce8e74649row5_col7{\n",
       "            background-color:  #efe9f3;\n",
       "            color:  #000000;\n",
       "        }#T_f319f066_7b53_11ed_8ff4_9cfce8e74649row6_col7{\n",
       "            background-color:  #cdd0e5;\n",
       "            color:  #000000;\n",
       "        }#T_f319f066_7b53_11ed_8ff4_9cfce8e74649row7_col0{\n",
       "            background-color:  #d4d4e8;\n",
       "            color:  #000000;\n",
       "        }#T_f319f066_7b53_11ed_8ff4_9cfce8e74649row7_col1{\n",
       "            background-color:  #c9cee4;\n",
       "            color:  #000000;\n",
       "        }#T_f319f066_7b53_11ed_8ff4_9cfce8e74649row7_col2{\n",
       "            background-color:  #d3d4e7;\n",
       "            color:  #000000;\n",
       "        }#T_f319f066_7b53_11ed_8ff4_9cfce8e74649row7_col3,#T_f319f066_7b53_11ed_8ff4_9cfce8e74649row7_col4{\n",
       "            background-color:  #dbdaeb;\n",
       "            color:  #000000;\n",
       "        }#T_f319f066_7b53_11ed_8ff4_9cfce8e74649row7_col5{\n",
       "            background-color:  #d0d1e6;\n",
       "            color:  #000000;\n",
       "        }#T_f319f066_7b53_11ed_8ff4_9cfce8e74649row7_col6{\n",
       "            background-color:  #99b8d8;\n",
       "            color:  #000000;\n",
       "        }</style><table id=\"T_f319f066_7b53_11ed_8ff4_9cfce8e74649\" ><thead>    <tr>        <th class=\"blank level0\" ></th>        <th class=\"col_heading level0 col0\" >cohesion</th>        <th class=\"col_heading level0 col1\" >syntax</th>        <th class=\"col_heading level0 col2\" >vocabulary</th>        <th class=\"col_heading level0 col3\" >phraseology</th>        <th class=\"col_heading level0 col4\" >grammar</th>        <th class=\"col_heading level0 col5\" >conventions</th>        <th class=\"col_heading level0 col6\" >chars</th>        <th class=\"col_heading level0 col7\" >sents</th>    </tr></thead><tbody>\n",
       "                <tr>\n",
       "                        <th id=\"T_f319f066_7b53_11ed_8ff4_9cfce8e74649level0_row0\" class=\"row_heading level0 row0\" >cohesion</th>\n",
       "                        <td id=\"T_f319f066_7b53_11ed_8ff4_9cfce8e74649row0_col0\" class=\"data row0 col0\" >1.000000</td>\n",
       "                        <td id=\"T_f319f066_7b53_11ed_8ff4_9cfce8e74649row0_col1\" class=\"data row0 col1\" >0.688703</td>\n",
       "                        <td id=\"T_f319f066_7b53_11ed_8ff4_9cfce8e74649row0_col2\" class=\"data row0 col2\" >0.658414</td>\n",
       "                        <td id=\"T_f319f066_7b53_11ed_8ff4_9cfce8e74649row0_col3\" class=\"data row0 col3\" >0.684918</td>\n",
       "                        <td id=\"T_f319f066_7b53_11ed_8ff4_9cfce8e74649row0_col4\" class=\"data row0 col4\" >0.632497</td>\n",
       "                        <td id=\"T_f319f066_7b53_11ed_8ff4_9cfce8e74649row0_col5\" class=\"data row0 col5\" >0.658906</td>\n",
       "                        <td id=\"T_f319f066_7b53_11ed_8ff4_9cfce8e74649row0_col6\" class=\"data row0 col6\" >0.092905</td>\n",
       "                        <td id=\"T_f319f066_7b53_11ed_8ff4_9cfce8e74649row0_col7\" class=\"data row0 col7\" >0.304475</td>\n",
       "            </tr>\n",
       "            <tr>\n",
       "                        <th id=\"T_f319f066_7b53_11ed_8ff4_9cfce8e74649level0_row1\" class=\"row_heading level0 row1\" >syntax</th>\n",
       "                        <td id=\"T_f319f066_7b53_11ed_8ff4_9cfce8e74649row1_col0\" class=\"data row1 col0\" >0.688703</td>\n",
       "                        <td id=\"T_f319f066_7b53_11ed_8ff4_9cfce8e74649row1_col1\" class=\"data row1 col1\" >1.000000</td>\n",
       "                        <td id=\"T_f319f066_7b53_11ed_8ff4_9cfce8e74649row1_col2\" class=\"data row1 col2\" >0.674096</td>\n",
       "                        <td id=\"T_f319f066_7b53_11ed_8ff4_9cfce8e74649row1_col3\" class=\"data row1 col3\" >0.720966</td>\n",
       "                        <td id=\"T_f319f066_7b53_11ed_8ff4_9cfce8e74649row1_col4\" class=\"data row1 col4\" >0.704786</td>\n",
       "                        <td id=\"T_f319f066_7b53_11ed_8ff4_9cfce8e74649row1_col5\" class=\"data row1 col5\" >0.694260</td>\n",
       "                        <td id=\"T_f319f066_7b53_11ed_8ff4_9cfce8e74649row1_col6\" class=\"data row1 col6\" >0.076603</td>\n",
       "                        <td id=\"T_f319f066_7b53_11ed_8ff4_9cfce8e74649row1_col7\" class=\"data row1 col7\" >0.326032</td>\n",
       "            </tr>\n",
       "            <tr>\n",
       "                        <th id=\"T_f319f066_7b53_11ed_8ff4_9cfce8e74649level0_row2\" class=\"row_heading level0 row2\" >vocabulary</th>\n",
       "                        <td id=\"T_f319f066_7b53_11ed_8ff4_9cfce8e74649row2_col0\" class=\"data row2 col0\" >0.658414</td>\n",
       "                        <td id=\"T_f319f066_7b53_11ed_8ff4_9cfce8e74649row2_col1\" class=\"data row2 col1\" >0.674096</td>\n",
       "                        <td id=\"T_f319f066_7b53_11ed_8ff4_9cfce8e74649row2_col2\" class=\"data row2 col2\" >1.000000</td>\n",
       "                        <td id=\"T_f319f066_7b53_11ed_8ff4_9cfce8e74649row2_col3\" class=\"data row2 col3\" >0.730735</td>\n",
       "                        <td id=\"T_f319f066_7b53_11ed_8ff4_9cfce8e74649row2_col4\" class=\"data row2 col4\" >0.649082</td>\n",
       "                        <td id=\"T_f319f066_7b53_11ed_8ff4_9cfce8e74649row2_col5\" class=\"data row2 col5\" >0.657664</td>\n",
       "                        <td id=\"T_f319f066_7b53_11ed_8ff4_9cfce8e74649row2_col6\" class=\"data row2 col6\" >0.107200</td>\n",
       "                        <td id=\"T_f319f066_7b53_11ed_8ff4_9cfce8e74649row2_col7\" class=\"data row2 col7\" >0.318664</td>\n",
       "            </tr>\n",
       "            <tr>\n",
       "                        <th id=\"T_f319f066_7b53_11ed_8ff4_9cfce8e74649level0_row3\" class=\"row_heading level0 row3\" >phraseology</th>\n",
       "                        <td id=\"T_f319f066_7b53_11ed_8ff4_9cfce8e74649row3_col0\" class=\"data row3 col0\" >0.684918</td>\n",
       "                        <td id=\"T_f319f066_7b53_11ed_8ff4_9cfce8e74649row3_col1\" class=\"data row3 col1\" >0.720966</td>\n",
       "                        <td id=\"T_f319f066_7b53_11ed_8ff4_9cfce8e74649row3_col2\" class=\"data row3 col2\" >0.730735</td>\n",
       "                        <td id=\"T_f319f066_7b53_11ed_8ff4_9cfce8e74649row3_col3\" class=\"data row3 col3\" >1.000000</td>\n",
       "                        <td id=\"T_f319f066_7b53_11ed_8ff4_9cfce8e74649row3_col4\" class=\"data row3 col4\" >0.715697</td>\n",
       "                        <td id=\"T_f319f066_7b53_11ed_8ff4_9cfce8e74649row3_col5\" class=\"data row3 col5\" >0.661869</td>\n",
       "                        <td id=\"T_f319f066_7b53_11ed_8ff4_9cfce8e74649row3_col6\" class=\"data row3 col6\" >0.092558</td>\n",
       "                        <td id=\"T_f319f066_7b53_11ed_8ff4_9cfce8e74649row3_col7\" class=\"data row3 col7\" >0.273632</td>\n",
       "            </tr>\n",
       "            <tr>\n",
       "                        <th id=\"T_f319f066_7b53_11ed_8ff4_9cfce8e74649level0_row4\" class=\"row_heading level0 row4\" >grammar</th>\n",
       "                        <td id=\"T_f319f066_7b53_11ed_8ff4_9cfce8e74649row4_col0\" class=\"data row4 col0\" >0.632497</td>\n",
       "                        <td id=\"T_f319f066_7b53_11ed_8ff4_9cfce8e74649row4_col1\" class=\"data row4 col1\" >0.704786</td>\n",
       "                        <td id=\"T_f319f066_7b53_11ed_8ff4_9cfce8e74649row4_col2\" class=\"data row4 col2\" >0.649082</td>\n",
       "                        <td id=\"T_f319f066_7b53_11ed_8ff4_9cfce8e74649row4_col3\" class=\"data row4 col3\" >0.715697</td>\n",
       "                        <td id=\"T_f319f066_7b53_11ed_8ff4_9cfce8e74649row4_col4\" class=\"data row4 col4\" >1.000000</td>\n",
       "                        <td id=\"T_f319f066_7b53_11ed_8ff4_9cfce8e74649row4_col5\" class=\"data row4 col5\" >0.668070</td>\n",
       "                        <td id=\"T_f319f066_7b53_11ed_8ff4_9cfce8e74649row4_col6\" class=\"data row4 col6\" >-0.003197</td>\n",
       "                        <td id=\"T_f319f066_7b53_11ed_8ff4_9cfce8e74649row4_col7\" class=\"data row4 col7\" >0.198628</td>\n",
       "            </tr>\n",
       "            <tr>\n",
       "                        <th id=\"T_f319f066_7b53_11ed_8ff4_9cfce8e74649level0_row5\" class=\"row_heading level0 row5\" >conventions</th>\n",
       "                        <td id=\"T_f319f066_7b53_11ed_8ff4_9cfce8e74649row5_col0\" class=\"data row5 col0\" >0.658906</td>\n",
       "                        <td id=\"T_f319f066_7b53_11ed_8ff4_9cfce8e74649row5_col1\" class=\"data row5 col1\" >0.694260</td>\n",
       "                        <td id=\"T_f319f066_7b53_11ed_8ff4_9cfce8e74649row5_col2\" class=\"data row5 col2\" >0.657664</td>\n",
       "                        <td id=\"T_f319f066_7b53_11ed_8ff4_9cfce8e74649row5_col3\" class=\"data row5 col3\" >0.661869</td>\n",
       "                        <td id=\"T_f319f066_7b53_11ed_8ff4_9cfce8e74649row5_col4\" class=\"data row5 col4\" >0.668070</td>\n",
       "                        <td id=\"T_f319f066_7b53_11ed_8ff4_9cfce8e74649row5_col5\" class=\"data row5 col5\" >1.000000</td>\n",
       "                        <td id=\"T_f319f066_7b53_11ed_8ff4_9cfce8e74649row5_col6\" class=\"data row5 col6\" >0.042422</td>\n",
       "                        <td id=\"T_f319f066_7b53_11ed_8ff4_9cfce8e74649row5_col7\" class=\"data row5 col7\" >0.283785</td>\n",
       "            </tr>\n",
       "            <tr>\n",
       "                        <th id=\"T_f319f066_7b53_11ed_8ff4_9cfce8e74649level0_row6\" class=\"row_heading level0 row6\" >chars</th>\n",
       "                        <td id=\"T_f319f066_7b53_11ed_8ff4_9cfce8e74649row6_col0\" class=\"data row6 col0\" >0.092905</td>\n",
       "                        <td id=\"T_f319f066_7b53_11ed_8ff4_9cfce8e74649row6_col1\" class=\"data row6 col1\" >0.076603</td>\n",
       "                        <td id=\"T_f319f066_7b53_11ed_8ff4_9cfce8e74649row6_col2\" class=\"data row6 col2\" >0.107200</td>\n",
       "                        <td id=\"T_f319f066_7b53_11ed_8ff4_9cfce8e74649row6_col3\" class=\"data row6 col3\" >0.092558</td>\n",
       "                        <td id=\"T_f319f066_7b53_11ed_8ff4_9cfce8e74649row6_col4\" class=\"data row6 col4\" >-0.003197</td>\n",
       "                        <td id=\"T_f319f066_7b53_11ed_8ff4_9cfce8e74649row6_col5\" class=\"data row6 col5\" >0.042422</td>\n",
       "                        <td id=\"T_f319f066_7b53_11ed_8ff4_9cfce8e74649row6_col6\" class=\"data row6 col6\" >1.000000</td>\n",
       "                        <td id=\"T_f319f066_7b53_11ed_8ff4_9cfce8e74649row6_col7\" class=\"data row6 col7\" >0.406132</td>\n",
       "            </tr>\n",
       "            <tr>\n",
       "                        <th id=\"T_f319f066_7b53_11ed_8ff4_9cfce8e74649level0_row7\" class=\"row_heading level0 row7\" >sents</th>\n",
       "                        <td id=\"T_f319f066_7b53_11ed_8ff4_9cfce8e74649row7_col0\" class=\"data row7 col0\" >0.304475</td>\n",
       "                        <td id=\"T_f319f066_7b53_11ed_8ff4_9cfce8e74649row7_col1\" class=\"data row7 col1\" >0.326032</td>\n",
       "                        <td id=\"T_f319f066_7b53_11ed_8ff4_9cfce8e74649row7_col2\" class=\"data row7 col2\" >0.318664</td>\n",
       "                        <td id=\"T_f319f066_7b53_11ed_8ff4_9cfce8e74649row7_col3\" class=\"data row7 col3\" >0.273632</td>\n",
       "                        <td id=\"T_f319f066_7b53_11ed_8ff4_9cfce8e74649row7_col4\" class=\"data row7 col4\" >0.198628</td>\n",
       "                        <td id=\"T_f319f066_7b53_11ed_8ff4_9cfce8e74649row7_col5\" class=\"data row7 col5\" >0.283785</td>\n",
       "                        <td id=\"T_f319f066_7b53_11ed_8ff4_9cfce8e74649row7_col6\" class=\"data row7 col6\" >0.406132</td>\n",
       "                        <td id=\"T_f319f066_7b53_11ed_8ff4_9cfce8e74649row7_col7\" class=\"data row7 col7\" >1.000000</td>\n",
       "            </tr>\n",
       "    </tbody></table>"
      ],
      "text/plain": [
       "<pandas.io.formats.style.Styler at 0x16081ee08e0>"
      ]
     },
     "execution_count": 5,
     "metadata": {},
     "output_type": "execute_result"
    }
   ],
   "source": [
    "#使用Background_gradient()方法和train的cohesion作为其参数值\n",
    "train[train.cohesion>1].corr().style.background_gradient()"
   ]
  },
  {
   "cell_type": "code",
   "execution_count": 6,
   "metadata": {},
   "outputs": [
    {
     "data": {
      "image/png": "[encoded data removed]",
      "text/plain": [
       "<Figure size 432x288 with 1 Axes>"
      ]
     },
     "metadata": {
      "needs_background": "light"
     },
     "output_type": "display_data"
    }
   ],
   "source": [
    "plt.scatter(train.cohesion, train.chars)\n",
    "plt.show()"
   ]
  },
  {
   "cell_type": "code",
   "execution_count": 7,
   "metadata": {},
   "outputs": [
    {
     "data": {
      "image/png": "[encoded data removed]",
      "text/plain": [
       "<Figure size 432x288 with 1 Axes>"
      ]
     },
     "metadata": {
      "needs_background": "light"
     },
     "output_type": "display_data"
    }
   ],
   "source": [
    "plt.scatter(train.syntax, train.chars)\n",
    "plt.show()"
   ]
  },
  {
   "cell_type": "code",
   "execution_count": 8,
   "metadata": {},
   "outputs": [
    {
     "data": {
      "image/png": "[encoded data removed]",
      "text/plain": [
       "<Figure size 432x288 with 1 Axes>"
      ]
     },
     "metadata": {
      "needs_background": "light"
     },
     "output_type": "display_data"
    }
   ],
   "source": [
    "plt.scatter(train.vocabulary, train.chars)\n",
    "plt.show()"
   ]
  },
  {
   "cell_type": "code",
   "execution_count": 9,
   "metadata": {},
   "outputs": [
    {
     "data": {
      "image/png": "[encoded data removed]",
      "text/plain": [
       "<Figure size 432x288 with 1 Axes>"
      ]
     },
     "metadata": {
      "needs_background": "light"
     },
     "output_type": "display_data"
    }
   ],
   "source": [
    "plt.scatter(train.phraseology, train.chars)\n",
    "plt.show()"
   ]
  },
  {
   "cell_type": "code",
   "execution_count": 10,
   "metadata": {},
   "outputs": [
    {
     "data": {
      "image/png": "[encoded data removed]",
      "text/plain": [
       "<Figure size 432x288 with 1 Axes>"
      ]
     },
     "metadata": {
      "needs_background": "light"
     },
     "output_type": "display_data"
    }
   ],
   "source": [
    "plt.scatter(train.grammar, train.chars)\n",
    "plt.show()"
   ]
  },
  {
   "cell_type": "code",
   "execution_count": 11,
   "metadata": {},
   "outputs": [
    {
     "data": {
      "image/png": "[encoded data removed]",
      "text/plain": [
       "<Figure size 432x288 with 1 Axes>"
      ]
     },
     "metadata": {
      "needs_background": "light"
     },
     "output_type": "display_data"
    }
   ],
   "source": [
    "plt.scatter(train.conventions, train.chars)\n",
    "plt.show()"
   ]
  },
  {
   "cell_type": "code",
   "execution_count": 12,
   "metadata": {},
   "outputs": [],
   "source": [
    "import pandas as pd\n",
    "import numpy as np\n",
    "from scipy import stats\n",
    "\n",
    "from sklearn.preprocessing import StandardScaler\n",
    "from sklearn.metrics import mean_squared_error\n",
    "from sklearn.svm import SVR\n",
    "\n",
    "import tensorflow as tf\n",
    "\n",
    "\n",
    "import transformers\n",
    "\n",
    "from transformers import AutoTokenizer, AutoModel\n",
    "from transformers import DataCollatorWithPadding\n",
    "from transformers import logging as hf_logging\n",
    "hf_logging.set_verbosity_error()\n",
    "\n",
    "from datasets import Dataset\n",
    "\n",
    "import os\n",
    "import gc\n",
    "import sys\n",
    "from tqdm.notebook import tqdm"
   ]
  },
  {
   "cell_type": "code",
   "execution_count": 13,
   "metadata": {},
   "outputs": [
    {
     "name": "stderr",
     "output_type": "stream",
     "text": [
      "C:\\ProgramData\\Anaconda3\\lib\\site-packages\\tensorflow_addons\\utils\\ensure_tf_install.py:53: UserWarning: Tensorflow Addons supports using Python ops for all Tensorflow versions above or equal to 2.8.0 and strictly below 2.11.0 (nightly versions are not supported). \n",
      " The versions of TensorFlow you are currently using is 2.7.0 and is not supported. \n",
      "Some things might work, some things might not.\n",
      "If you were to encounter a bug, do not file an issue.\n",
      "If you want to make sure you're using a tested and supported configuration, either change the TensorFlow version or the TensorFlow Addons's version. \n",
      "You can find the compatibility matrix in TensorFlow Addon's readme:\n",
      "https://github.com/tensorflow/addons\n",
      "  warnings.warn(\n"
     ]
    }
   ],
   "source": [
    "import tensorflow_addons as tfa"
   ]
  },
  {
   "cell_type": "code",
   "execution_count": 14,
   "metadata": {},
   "outputs": [],
   "source": [
    "CONFIG = {\n",
    "        'folds': 5,\n",
    "        'seed': 101,\n",
    "        \n",
    "        # Kaggle 嵌入\n",
    "        'debertav3large_npy': 'C:/Users/86134/Downloads/debertav3large_FB3.npy',\n",
    "        'distilrobertabase_npy': 'C:/Users/86134/Downloads/distilrobertabase_FB3.npy',\n",
    "        \n",
    "        'debertav3large': 'D:/deberta-v3-large',\n",
    "        'distilrobertabase': 'D:/distilroberta-base',\n",
    "\n",
    "        'batch_size': 4,\n",
    "        'max_len': 512\n",
    "        }"
   ]
  },
  {
   "cell_type": "code",
   "execution_count": 15,
   "metadata": {},
   "outputs": [
    {
     "name": "stdout",
     "output_type": "stream",
     "text": [
      "(3911, 8)\n",
      "(3, 2)\n",
      "(3, 7)\n"
     ]
    }
   ],
   "source": [
    "train = pd.read_csv(\"C:/Users/86134/Desktop/train.csv\")\n",
    "test = pd.read_csv(\"C:/Users/86134/Desktop/test.csv\")\n",
    "submission = pd.read_csv('C:/Users/86134/Desktop/sample_submission.csv')\n",
    "\n",
    "tgtCols = ['cohesion', 'syntax', 'vocabulary','phraseology', 'grammar', 'conventions']\n",
    "\n",
    "print(train.shape)\n",
    "print(test.shape)\n",
    "print(submission.shape)"
   ]
  },
  {
   "cell_type": "code",
   "execution_count": 16,
   "metadata": {},
   "outputs": [],
   "source": [
    "import sys\n",
    "sys.path.append('../input/iterativestratification')\n",
    "from iterstrat.ml_stratifiers import MultilabelStratifiedKFold\n",
    "\n",
    "#折叠\n",
    "train[\"kfold\"] = -1  \n",
    "\n",
    "mskf = MultilabelStratifiedKFold(n_splits=CONFIG['folds'], shuffle=True, random_state=CONFIG['seed'])\n",
    "data_labels = train[tgtCols].values\n",
    "\n",
    "for f, (t_, v_) in enumerate(mskf.split(train, data_labels)):\n",
    "    train.loc[v_, \"kfold\"] = f + 1"
   ]
  },
  {
   "cell_type": "code",
   "execution_count": 17,
   "metadata": {},
   "outputs": [
    {
     "data": {
      "text/plain": [
       "1    782\n",
       "2    782\n",
       "3    782\n",
       "4    782\n",
       "5    783\n",
       "Name: kfold, dtype: int64"
      ]
     },
     "execution_count": 17,
     "metadata": {},
     "output_type": "execute_result"
    }
   ],
   "source": [
    "train['kfold'].value_counts().sort_index()"
   ]
  },
  {
   "cell_type": "code",
   "execution_count": 18,
   "metadata": {},
   "outputs": [],
   "source": [
    "def mcrmse(y_true,y_pred):\n",
    "    rmse_scores = []\n",
    "    for i in range(len(tgtCols)):\n",
    "        rmse_scores.append(np.sqrt(mean_squared_error(y_true[:,i],y_pred[:,i])))\n",
    "    return np.mean(rmse_scores)"
   ]
  },
  {
   "cell_type": "code",
   "execution_count": 19,
   "metadata": {},
   "outputs": [],
   "source": [
    "def hf_encode(texts, chkpt):\n",
    "    \n",
    "    tokenizer = transformers.AutoTokenizer.from_pretrained(CONFIG[chkpt])\n",
    "    tokenizer.save_pretrained('./tokenizer/')\n",
    "\n",
    "    input_ids = []\n",
    "    attention_mask = []\n",
    "    \n",
    "    for text in texts.tolist():\n",
    "        token = tokenizer(text, \n",
    "                          add_special_tokens=True, \n",
    "                          max_length=CONFIG['max_len'], \n",
    "                          return_attention_mask=True, \n",
    "                          return_tensors=\"np\", \n",
    "                          truncation=True, \n",
    "                          padding='max_length')\n",
    "        input_ids.append(token['input_ids'][0])\n",
    "        attention_mask.append(token['attention_mask'][0])\n",
    "    \n",
    "    return np.array(input_ids, dtype=\"int32\"), np.array(attention_mask, dtype=\"int32\")"
   ]
  },
  {
   "cell_type": "code",
   "execution_count": 20,
   "metadata": {},
   "outputs": [],
   "source": [
    "def get_dataset(df):\n",
    "    inputs = hf_encode(df['full_text'])\n",
    "    targets = np.array(df[tgtCols], dtype=\"float32\")\n",
    "    return inputs, targets"
   ]
  },
  {
   "cell_type": "code",
   "execution_count": 21,
   "metadata": {},
   "outputs": [],
   "source": [
    "def pickle_dump(path, saveobj):\n",
    "    import pickle\n",
    "    filehandler = open(path,\"wb\")\n",
    "    pickle.dump(saveobj,filehandler)\n",
    "#     print(\"File pickled\")\n",
    "    filehandler.close()"
   ]
  },
  {
   "cell_type": "code",
   "execution_count": 22,
   "metadata": {},
   "outputs": [],
   "source": [
    "def pickle_load(path):\n",
    "    import pickle\n",
    "    file = open(path,'rb')\n",
    "    loadobj = pickle.load(file)\n",
    "    file.close()\n",
    "    return loadobj"
   ]
  },
  {
   "cell_type": "code",
   "execution_count": 23,
   "metadata": {},
   "outputs": [],
   "source": [
    "class MeanPool(tf.keras.layers.Layer):\n",
    "    def call(self, inputs, mask=None):\n",
    "        broadcast_mask = tf.expand_dims(tf.cast(mask, \"float32\"), -1)\n",
    "        embedding_sum = tf.reduce_sum(inputs * broadcast_mask, axis=1)\n",
    "        mask_sum = tf.reduce_sum(broadcast_mask, axis=1)\n",
    "        mask_sum = tf.math.maximum(mask_sum, tf.constant([1e-9]))\n",
    "        return embedding_sum / mask_sum"
   ]
  },
  {
   "cell_type": "code",
   "execution_count": 24,
   "metadata": {},
   "outputs": [],
   "source": [
    "def get_model(chkpt):\n",
    "    \n",
    "    cfg = transformers.AutoConfig.from_pretrained(CONFIG[chkpt], output_hidden_states=True)\n",
    "    cfg.hidden_dropout_prob = 0\n",
    "    cfg.attention_probs_dropout_prob = 0\n",
    "    cfg.save_pretrained('./tokenizer/')\n",
    "    \n",
    "    input_ids = tf.keras.layers.Input(\n",
    "        shape=(CONFIG['max_len'],), dtype=tf.int32, name=\"input_ids\"\n",
    "    )\n",
    "    \n",
    "    attention_masks = tf.keras.layers.Input(\n",
    "        shape=(CONFIG['max_len'],), dtype=tf.int32, name=\"attention_masks\"\n",
    "    )\n",
    "    \n",
    "    try:\n",
    "        model = transformers.TFAutoModel.from_pretrained(CONFIG[chkpt], config=cfg)\n",
    "    except:\n",
    "        model = transformers.TFAutoModel.from_pretrained(CONFIG[chkpt], config=cfg, from_pt=True)\n",
    "        \n",
    "    output = model(\n",
    "        input_ids, attention_mask=attention_masks\n",
    "    )\n",
    "    hidden_states = output.hidden_states\n",
    "    \n",
    "    output = tf.stack(\n",
    "        [MeanPool()(hidden_s, mask=attention_masks) for hidden_s in hidden_states[-1:]], \n",
    "        axis=2)\n",
    "    \n",
    "    output = tf.squeeze(output, axis=-1)\n",
    "    \n",
    "    model = tf.keras.Model(inputs=[input_ids, attention_masks], outputs=output)\n",
    "\n",
    "    model.compile(optimizer=\"adam\",\n",
    "                 loss='huber_loss',\n",
    "                 metrics=[tf.keras.metrics.RootMeanSquaredError()],\n",
    "                 )\n",
    "    \n",
    "    return model"
   ]
  },
  {
   "cell_type": "code",
   "execution_count": 25,
   "metadata": {},
   "outputs": [],
   "source": [
    "def pretrain_embeddings(chkpt, df):\n",
    "    \n",
    "    model = get_model(chkpt)\n",
    "    dataset = hf_encode(df['full_text'], chkpt)\n",
    "    preds = model.predict(dataset, batch_size=CONFIG['batch_size'])\n",
    "    \n",
    "    del model, dataset\n",
    "    _ = gc.collect()\n",
    "    \n",
    "    return preds"
   ]
  },
  {
   "cell_type": "code",
   "execution_count": 26,
   "metadata": {},
   "outputs": [
    {
     "data": {
      "text/plain": [
       "(3911, 1792)"
      ]
     },
     "execution_count": 26,
     "metadata": {},
     "output_type": "execute_result"
    }
   ],
   "source": [
    "train_dataset = np.load(CONFIG['debertav3large_npy'])\n",
    "train_dataset = np.concatenate([train_dataset, np.load(CONFIG['distilrobertabase_npy'])], axis=1)\n",
    "\n",
    "train_dataset.shape"
   ]
  },
  {
   "cell_type": "code",
   "execution_count": 27,
   "metadata": {},
   "outputs": [
    {
     "name": "stdout",
     "output_type": "stream",
     "text": [
      "#########################\n",
      "## Fold 1\n",
      "#########################\n",
      "cohesion , syntax , vocabulary , phraseology , grammar , conventions , Fold : 1 RSME score: 0.4574948104976473\n",
      "#########################\n",
      "Overall CV RSME = 0.4574948104976473\n",
      "#########################\n",
      "## Fold 2\n",
      "#########################\n",
      "cohesion , syntax , vocabulary , phraseology , grammar , conventions , Fold : 2 RSME score: 0.45328112992215\n",
      "#########################\n",
      "Overall CV RSME = 0.45538797020989863\n",
      "#########################\n",
      "## Fold 3\n",
      "#########################\n",
      "cohesion , syntax , vocabulary , phraseology , grammar , conventions , Fold : 3 RSME score: 0.45189874793140117\n",
      "#########################\n",
      "Overall CV RSME = 0.4542248961170661\n",
      "#########################\n",
      "## Fold 4\n",
      "#########################\n",
      "cohesion , syntax , vocabulary , phraseology , grammar , conventions , Fold : 4 RSME score: 0.45774089350556263\n",
      "#########################\n",
      "Overall CV RSME = 0.4551038954641903\n"
     ]
    }
   ],
   "source": [
    "#RMSE均方根误差\n",
    "\n",
    "scores = []\n",
    "\n",
    "for fold in range(1,CONFIG['folds']):\n",
    "\n",
    "    print('#'*25)\n",
    "    print(f'## Fold {fold}')\n",
    "    print('#'*25)\n",
    "\n",
    "    trn_idx = train[train['kfold']!=fold].index.values\n",
    "    val_idx = train[train['kfold']==fold].index.values\n",
    "\n",
    "    X_train = train_dataset[trn_idx,:]\n",
    "    X_valid = train_dataset[val_idx,:]\n",
    "\n",
    "    y_train = train[train['kfold']!=fold][tgtCols].copy()\n",
    "    y_valid = train[train['kfold']==fold][tgtCols].copy()\n",
    "\n",
    "    val_preds = np.zeros((len(val_idx),6))\n",
    "\n",
    "    for i, tgt in enumerate(tgtCols):\n",
    "\n",
    "        print(tgt,', ',end='')\n",
    "        clf = SVR(C=1)\n",
    "        clf.fit(X_train, y_train[tgt].values)\n",
    "        pickle_dump(f\"./SVR_tgt{tgt}_fold{fold}.pkl\", clf)\n",
    "        val_preds[:,i] = clf.predict(X_valid)\n",
    "\n",
    "    score = mcrmse(y_valid[tgtCols].values, val_preds)\n",
    "    scores.append(score)\n",
    "    print(\"Fold : {} RSME score: {}\".format(fold,score))\n",
    "\n",
    "    print('#'*25)\n",
    "    print('Overall CV RSME =',np.mean(scores))"
   ]
  },
  {
   "cell_type": "code",
   "execution_count": 28,
   "metadata": {},
   "outputs": [],
   "source": [
    "del train_dataset\n",
    "_ = gc.collect()"
   ]
  },
  {
   "cell_type": "code",
   "execution_count": 19,
   "metadata": {},
   "outputs": [
    {
     "name": "stderr",
     "output_type": "stream",
     "text": [
      "C:\\ProgramData\\Anaconda3\\lib\\site-packages\\transformers\\convert_slow_tokenizer.py:446: UserWarning: The sentencepiece tokenizer that you are converting to a fast tokenizer uses the byte fallback option which is not implemented in the fast tokenizers. In practice this means that the fast version of the tokenizer can produce unknown tokens whereas the sentencepiece version would have converted these unknown tokens into a sequence of byte tokens matching the original piece of text.\n",
      "  warnings.warn(\n"
     ]
    },
    {
     "data": {
      "text/plain": [
       "(3, 1792)"
      ]
     },
     "execution_count": 19,
     "metadata": {},
     "output_type": "execute_result"
    }
   ],
   "source": [
    "test_dataset = pretrain_embeddings('debertav3large', test)\n",
    "test_dataset = np.concatenate([test_dataset, pretrain_embeddings('distilrobertabase', test)], axis=1)\n",
    "\n",
    "test_dataset.shape"
   ]
  },
  {
   "cell_type": "code",
   "execution_count": 20,
   "metadata": {},
   "outputs": [
    {
     "name": "stdout",
     "output_type": "stream",
     "text": [
      "#########################\n",
      "## Fold 1\n",
      "#########################\n",
      "cohesion , syntax , vocabulary , phraseology , grammar , conventions , #########################\n",
      "## Fold 2\n",
      "#########################\n",
      "cohesion , syntax , vocabulary , phraseology , grammar , conventions , #########################\n",
      "## Fold 3\n",
      "#########################\n",
      "cohesion , syntax , vocabulary , phraseology , grammar , conventions , #########################\n",
      "## Fold 4\n",
      "#########################\n",
      "cohesion , syntax , vocabulary , phraseology , grammar , conventions , "
     ]
    }
   ],
   "source": [
    "fold_preds = []\n",
    "\n",
    "for fold in range(1,CONFIG['folds']):\n",
    "\n",
    "    print('#'*25)\n",
    "    print(f'## Fold {fold}')\n",
    "    print('#'*25)\n",
    "    \n",
    "    test_preds = np.zeros((len(test_dataset),6))\n",
    "    for i, tgt in enumerate(tgtCols):\n",
    "\n",
    "        print(tgt,', ',end='')\n",
    "        model = pickle_load(f\"./SVR_tgt{tgt}_fold{fold}.pkl\")\n",
    "        test_preds[:,i] = model.predict(test_dataset)\n",
    "    \n",
    "    fold_preds.append(test_preds)\n",
    "    \n",
    "    del model\n",
    "    _ = gc.collect()"
   ]
  },
  {
   "cell_type": "code",
   "execution_count": 21,
   "metadata": {},
   "outputs": [],
   "source": [
    "preds = np.mean(fold_preds, axis=0)\n",
    "preds = np.clip(preds, 1, 5)"
   ]
  },
  {
   "cell_type": "code",
   "execution_count": 22,
   "metadata": {},
   "outputs": [],
   "source": [
    "sub_df = pd.concat([test[['text_id']], pd.DataFrame(preds, columns=tgtCols)], axis=1)\n",
    "sub_df.to_csv('submission.csv', index=False)"
   ]
  },
  {
   "cell_type": "code",
   "execution_count": 23,
   "metadata": {},
   "outputs": [
    {
     "data": {
      "text/html": [
       "<div>\n",
       "<style scoped>\n",
       "    .dataframe tbody tr th:only-of-type {\n",
       "        vertical-align: middle;\n",
       "    }\n",
       "\n",
       "    .dataframe tbody tr th {\n",
       "        vertical-align: top;\n",
       "    }\n",
       "\n",
       "    .dataframe thead th {\n",
       "        text-align: right;\n",
       "    }\n",
       "</style>\n",
       "<table border=\"1\" class=\"dataframe\">\n",
       "  <thead>\n",
       "    <tr style=\"text-align: right;\">\n",
       "      <th></th>\n",
       "      <th>text_id</th>\n",
       "      <th>cohesion</th>\n",
       "      <th>syntax</th>\n",
       "      <th>vocabulary</th>\n",
       "      <th>phraseology</th>\n",
       "      <th>grammar</th>\n",
       "      <th>conventions</th>\n",
       "    </tr>\n",
       "  </thead>\n",
       "  <tbody>\n",
       "    <tr>\n",
       "      <th>0</th>\n",
       "      <td>0000C359D63E</td>\n",
       "      <td>2.964720</td>\n",
       "      <td>2.777844</td>\n",
       "      <td>3.095375</td>\n",
       "      <td>2.986499</td>\n",
       "      <td>2.722708</td>\n",
       "      <td>2.646358</td>\n",
       "    </tr>\n",
       "    <tr>\n",
       "      <th>1</th>\n",
       "      <td>000BAD50D026</td>\n",
       "      <td>2.589156</td>\n",
       "      <td>2.395107</td>\n",
       "      <td>2.672812</td>\n",
       "      <td>2.292683</td>\n",
       "      <td>2.015080</td>\n",
       "      <td>2.550647</td>\n",
       "    </tr>\n",
       "    <tr>\n",
       "      <th>2</th>\n",
       "      <td>00367BB2546B</td>\n",
       "      <td>3.499556</td>\n",
       "      <td>3.379708</td>\n",
       "      <td>3.526140</td>\n",
       "      <td>3.585185</td>\n",
       "      <td>3.359599</td>\n",
       "      <td>3.288330</td>\n",
       "    </tr>\n",
       "  </tbody>\n",
       "</table>\n",
       "</div>"
      ],
      "text/plain": [
       "        text_id  cohesion    syntax  vocabulary  phraseology   grammar  \\\n",
       "0  0000C359D63E  2.964720  2.777844    3.095375     2.986499  2.722708   \n",
       "1  000BAD50D026  2.589156  2.395107    2.672812     2.292683  2.015080   \n",
       "2  00367BB2546B  3.499556  3.379708    3.526140     3.585185  3.359599   \n",
       "\n",
       "   conventions  \n",
       "0     2.646358  \n",
       "1     2.550647  \n",
       "2     3.288330  "
      ]
     },
     "execution_count": 23,
     "metadata": {},
     "output_type": "execute_result"
    }
   ],
   "source": [
    "sub_df.head()"
   ]
  },
  {
   "cell_type": "code",
   "execution_count": null,
   "metadata": {},
   "outputs": [],
   "source": []
  }
 ],
 "metadata": {
  "kernelspec": {
   "display_name": "Python 3",
   "language": "python",
   "name": "python3"
  },
  "language_info": {
   "codemirror_mode": {
    "name": "ipython",
    "version": 3
   },
   "file_extension": ".py",
   "mimetype": "text/x-python",
   "name": "python",
   "nbconvert_exporter": "python",
   "pygments_lexer": "ipython3",
   "version": "3.8.5"
  }
 },
 "nbformat": 4,
 "nbformat_minor": 4
}
